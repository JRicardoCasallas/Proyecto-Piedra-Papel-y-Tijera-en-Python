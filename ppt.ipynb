{
 "cells": [
  {
   "cell_type": "code",
   "execution_count": 1,
   "id": "e12c7752",
   "metadata": {},
   "outputs": [
    {
     "name": "stdout",
     "output_type": "stream",
     "text": [
      "\n",
      " las juagadas son:, resultados\n",
      "\n",
      " -----Resumen del juego----------\n",
      "Puntos del jugador 1: 0\n",
      "Puntos del jugador 2: 0\n",
      "Empate\n",
      "\n",
      " las juagadas son:, resultados\n",
      "\n",
      " -----Resumen del juego----------\n",
      "Puntos del jugador 1: 0\n",
      "Puntos del jugador 2: 0\n",
      "Empate\n",
      "\n",
      " las juagadas son:, resultados\n",
      "\n",
      " -----Resumen del juego----------\n",
      "Puntos del jugador 1: 1\n",
      "Puntos del jugador 2: 0\n",
      "El jugador 1 gana\n",
      "El porcentaje de partidas que terminaron en empate es: 66.66666666666666\n"
     ]
    }
   ],
   "source": [
    "#Desarrollar un algoritmo que nos muestre la probabildad de empate.\n",
    "import random\n",
    "\n",
    "reglas = {\n",
    "    \"piedra\": [\"tijeras\"],\n",
    "    \"papel\": [\"piedra\"],\n",
    "    \"tijeras\": [\"papel\"]\n",
    "    \n",
    "}\n",
    "\n",
    "n_partidas = int(input(\"Ingrese el número de partidas a jugar: \"))\n",
    "partida = 1\n",
    "resultados = []\n",
    "jugador_1 = 0\n",
    "jugador_2 = 0\n",
    "\n",
    "while partida <= n_partidas:\n",
    "    eleccion_jugador_1 = random.choice(list(reglas.keys()))\n",
    "    eleccion_jugador_2 = random.choice(list(reglas.keys()))\n",
    "    resultados.append((eleccion_jugador_1, eleccion_jugador_2))\n",
    "    \n",
    "    if eleccion_jugador_1 != eleccion_jugador_2:\n",
    "        if eleccion_jugador_2 in reglas[eleccion_jugador_1]:\n",
    "            jugador_1 += 1\n",
    "        else:\n",
    "            jugador_2 += 1\n",
    "            \n",
    "    partida += 1\n",
    "    \n",
    "    # Mostrar resultados de la partida\n",
    "    print(\"\\n las juagadas son:, resultados\")\n",
    "    print(\"\\n -----Resumen del juego----------\")\n",
    "    print(\"Puntos del jugador 1:\", jugador_1)\n",
    "    print(\"Puntos del jugador 2:\", jugador_2)\n",
    "    \n",
    "    \n",
    "    #Operador ternario para determinar el ganador\n",
    "    print(\"Empate\" if jugador_2 == jugador_1 else \"El jugador 1 gana\" if jugador_1 > jugador_2 else \"El jugador 2 gana\")\n",
    "\n",
    "   #calcular el porcentaje de partidas que se empataron\n",
    "prob_empate = ((n_partidas - jugador_1 - jugador_2)/n_partidas * 100)\n",
    "print('El porcentaje de partidas que terminaron en empate es:', prob_empate)"
   ]
  }
 ],
 "metadata": {
  "kernelspec": {
   "display_name": "Python 3",
   "language": "python",
   "name": "python3"
  },
  "language_info": {
   "codemirror_mode": {
    "name": "ipython",
    "version": 3
   },
   "file_extension": ".py",
   "mimetype": "text/x-python",
   "name": "python",
   "nbconvert_exporter": "python",
   "pygments_lexer": "ipython3",
   "version": "3.12.7"
  }
 },
 "nbformat": 4,
 "nbformat_minor": 5
}
